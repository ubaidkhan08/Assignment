{
 "cells": [
  {
   "cell_type": "markdown",
   "metadata": {},
   "source": [
    "# Section 2 - Coding"
   ]
  },
  {
   "cell_type": "markdown",
   "metadata": {},
   "source": [
    "## Reading the file"
   ]
  },
  {
   "cell_type": "code",
   "execution_count": 51,
   "metadata": {
    "scrolled": true
   },
   "outputs": [],
   "source": [
    "file = open(\"section2_data.txt\", \"r\")"
   ]
  },
  {
   "cell_type": "markdown",
   "metadata": {},
   "source": [
    "## Section 1 - Design a data loader\n",
    "\n",
    "Design a data structure, that give a file path `\"section2_data.txt\"`, it will read and parse the contents of the file above.\n",
    "\n",
    "#### Q1 - Design the data structure with the following properties:\n",
    "- The data structure is either callable or indexable. It will accepts a single parameter, as integer, and return the parsed contents of the row corresponding to the given index.\n",
    "- The data structure needs to return the number of rows in the file (and in memory) when called with the python command `len(my_data_struct)`\n"
   ]
  },
  {
   "cell_type": "code",
   "execution_count": 49,
   "metadata": {},
   "outputs": [
    {
     "name": "stdout",
     "output_type": "stream",
     "text": [
      "51\n"
     ]
    }
   ],
   "source": [
    "my_data_struct=[]\n",
    "def count_rows(file):    \n",
    "    file = open(\"section2_data.txt\", \"r\")\n",
    "# print(file.read())\n",
    "    count=0\n",
    "    for i in file:\n",
    "        temp=\"\"\n",
    "        for j in i:\n",
    "            if j=='}':\n",
    "                count+=1\n",
    "            temp+=j\n",
    "        my_data_struct.append(temp) \n",
    "\n",
    "count_rows(\"section2_data.txt\")\n",
    "print(len(my_data_struct))"
   ]
  },
  {
   "cell_type": "markdown",
   "metadata": {},
   "source": [
    "#### Q2 - Prove that you can initialize the reader and then calculate its length `len(reader)` and print the 26th and 43rd elements of the dataset."
   ]
  },
  {
   "cell_type": "code",
   "execution_count": 50,
   "metadata": {},
   "outputs": [
    {
     "name": "stdout",
     "output_type": "stream",
     "text": [
      "51\n",
      "{\"_i\": 26, \"frame\": \"frame_004.png\", \"video\": \"video003\", \"value\": 24, \"labels\": [\"cat\", \"cat\", \"panda\"]}\n",
      "\n",
      "{\"_i\": 43, \"frame\": \"frame_003.png\", \"video\": \"video004\", \"value\": 31, \"labels\": [\"panda\", \"cat\", \"bird\"]}\n",
      "\n"
     ]
    }
   ],
   "source": [
    "print(len(my_data_struct))\n",
    "print(my_data_struct[26])\n",
    "print(my_data_struct[43])"
   ]
  },
  {
   "cell_type": "markdown",
   "metadata": {},
   "source": [
    "## Section 2 - Process the data\n",
    "\n",
    "#### Q1 - Write an algorithm that will generate a dictionary with key/value pairs, where the keys are the name of each unique video in the dataset and the value is the number of frames of that video."
   ]
  },
  {
   "cell_type": "code",
   "execution_count": 60,
   "metadata": {},
   "outputs": [
    {
     "data": {
      "text/plain": [
       "{'video000': 7, 'video001': 10, 'video002': 5, 'video003': 18, 'video004': 11}"
      ]
     },
     "execution_count": 60,
     "metadata": {},
     "output_type": "execute_result"
    }
   ],
   "source": [
    "import json\n",
    "def video_frame_count(my_data_struct):\n",
    "    sol_dict={}\n",
    "    for i in my_data_struct:\n",
    "        res=json.loads(i)\n",
    "        video_name=res[\"video\"]\n",
    "        if video_name in sol_dict:\n",
    "            sol_dict[video_name]+=1\n",
    "        else:    \n",
    "            sol_dict[video_name]=1\n",
    "    return sol_dict\n",
    "video_frame_count(my_data_struct)"
   ]
  },
  {
   "cell_type": "markdown",
   "metadata": {},
   "source": [
    "#### Q2 - Write an algorithm that will generate a dictionary with key/value pairs, where the keys are the name of each unique video in the dataset and the value is the sum of the `value` field of all the frames containing a `dog`."
   ]
  },
  {
   "cell_type": "code",
   "execution_count": 54,
   "metadata": {},
   "outputs": [
    {
     "data": {
      "text/plain": [
       "{'video000': 4, 'video001': 5, 'video002': 4, 'video003': 9, 'video004': 3}"
      ]
     },
     "execution_count": 54,
     "metadata": {},
     "output_type": "execute_result"
    }
   ],
   "source": [
    "import json\n",
    "def video_value_sum_with_dog(my_data_struct):\n",
    "    sol_dict={}\n",
    "    name_dict=video_frame_count(my_data_struct)\n",
    "    for i in my_data_struct:\n",
    "            res = json.loads(i)\n",
    "            for j in res[\"labels\"]:\n",
    "                if j==\"dog\":\n",
    "                    if res[\"video\"] in sol_dict:\n",
    "                        sol_dict[res[\"video\"]]+=1\n",
    "                    else:    \n",
    "                        sol_dict[res[\"video\"]]=1\n",
    "    return sol_dict\n",
    "video_value_sum_with_dog(my_data_struct)"
   ]
  },
  {
   "cell_type": "markdown",
   "metadata": {},
   "source": [
    "#### Q3 - Last, create an algorithm that returns a dictionary with the count of each of the animal types in the dataset, excluding occurrences in `video003` and rows where the `value` is odd."
   ]
  },
  {
   "cell_type": "code",
   "execution_count": 55,
   "metadata": {},
   "outputs": [
    {
     "data": {
      "text/plain": [
       "{'video000': 4, 'video001': 5, 'video002': 3, 'video004': 4}"
      ]
     },
     "execution_count": 55,
     "metadata": {},
     "output_type": "execute_result"
    }
   ],
   "source": [
    "import json\n",
    "import numpy as np\n",
    "def animal_count(my_data_struct):\n",
    "    sol_dict={}\n",
    "    count=0\n",
    "    for i in my_data_struct:\n",
    "            res = json.loads(i)\n",
    "            for j in res[\"labels\"]:\n",
    "                if (count%2==0) & (res[\"video\"]!=\"video003\"):\n",
    "                    if res[\"video\"] in sol_dict:\n",
    "                        sol_dict[res[\"video\"]].append(j)\n",
    "                    else:\n",
    "                        sol_dict[res[\"video\"]]=[]\n",
    "            count+=1\n",
    "            ans_dict={} \n",
    "    for i,j in sol_dict.items():\n",
    "        temp_arr=np.array(j)\n",
    "        ans_dict[i]=len(np.unique(temp_arr))\n",
    "    return ans_dict\n",
    "animal_count(my_data_struct)"
   ]
  },
  {
   "cell_type": "code",
   "execution_count": 57,
   "metadata": {},
   "outputs": [
    {
     "data": {
      "text/plain": [
       "{'bird': 6, 'cat': 7, 'dog': 10, 'frog': 8}"
      ]
     },
     "execution_count": 57,
     "metadata": {},
     "output_type": "execute_result"
    }
   ],
   "source": [
    "import json\n",
    "import numpy as np\n",
    "def animal_count(my_data_struct):\n",
    "    sol_dict=[]\n",
    "    for i in my_data_struct:\n",
    "            res = json.loads(i)\n",
    "            for j in res[\"labels\"]:\n",
    "                if  (res[\"value\"]%2==0) & (res[\"video\"]!=\"video003\"):\n",
    "                    sol_dict.append(j)\n",
    "    ans_dict={} \n",
    "    temp_arr=np.array(sol_dict)\n",
    "    arr=np.unique(temp_arr,return_counts=True)\n",
    "    a1=arr[0]\n",
    "    a2=arr[1]\n",
    "    for i in range(0,len(a1)-1):\n",
    "        ans_dict[a1[i]]=a2[i]\n",
    "    return ans_dict\n",
    "animal_count(my_data_struct)"
   ]
  },
  {
   "cell_type": "markdown",
   "metadata": {},
   "source": [
    "# "
   ]
  },
  {
   "cell_type": "markdown",
   "metadata": {},
   "source": [
    "# Thank you!"
   ]
  }
 ],
 "metadata": {
  "interpreter": {
   "hash": "569d6b7e9215e11aba41c6454007e5c1b78bad7df09dab765d8cf00362c40f03"
  },
  "kernelspec": {
   "display_name": "Python 3 (ipykernel)",
   "language": "python",
   "name": "python3"
  },
  "language_info": {
   "codemirror_mode": {
    "name": "ipython",
    "version": 3
   },
   "file_extension": ".py",
   "mimetype": "text/x-python",
   "name": "python",
   "nbconvert_exporter": "python",
   "pygments_lexer": "ipython3",
   "version": "3.9.12"
  },
  "toc": {
   "base_numbering": 1,
   "nav_menu": {},
   "number_sections": true,
   "sideBar": true,
   "skip_h1_title": false,
   "title_cell": "Table of Contents",
   "title_sidebar": "Contents",
   "toc_cell": false,
   "toc_position": {},
   "toc_section_display": true,
   "toc_window_display": false
  },
  "varInspector": {
   "cols": {
    "lenName": 16,
    "lenType": 16,
    "lenVar": 40
   },
   "kernels_config": {
    "python": {
     "delete_cmd_postfix": "",
     "delete_cmd_prefix": "del ",
     "library": "var_list.py",
     "varRefreshCmd": "print(var_dic_list())"
    },
    "r": {
     "delete_cmd_postfix": ") ",
     "delete_cmd_prefix": "rm(",
     "library": "var_list.r",
     "varRefreshCmd": "cat(var_dic_list()) "
    }
   },
   "types_to_exclude": [
    "module",
    "function",
    "builtin_function_or_method",
    "instance",
    "_Feature"
   ],
   "window_display": false
  }
 },
 "nbformat": 4,
 "nbformat_minor": 2
}
