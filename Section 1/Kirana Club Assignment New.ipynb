{
 "cells": [
  {
   "cell_type": "markdown",
   "id": "4fac72a3",
   "metadata": {},
   "source": [
    "# Data Science Assignment by Ubaid Khan\n",
    "`Through this assignment, I have tried to solve some common data analysis questions and integrate the process of hyposthesis validation through unsupervised learning algorithms to help stakeholders be more confident in the analysis. Here, the Exploratory Data Analysis (EDA) involves using statistics and visualizations to analyze and identify trends in data sets. The primary intent of EDA is to determine whether a predictive model is a feasible analytical tool for business challenges or not.`"
   ]
  },
  {
   "cell_type": "markdown",
   "id": "102c8867",
   "metadata": {},
   "source": [
    "# "
   ]
  },
  {
   "cell_type": "markdown",
   "id": "8a212582",
   "metadata": {},
   "source": [
    "# Importing Required Libraries"
   ]
  },
  {
   "cell_type": "code",
   "execution_count": 1,
   "id": "f60916aa",
   "metadata": {},
   "outputs": [],
   "source": [
    "import numpy as np\n",
    "import pandas as pd \n",
    "import matplotlib.pyplot as plt\n",
    "from joblib import dump, load\n",
    "import seaborn as sns\n",
    "import os"
   ]
  },
  {
   "cell_type": "markdown",
   "id": "395c5871",
   "metadata": {},
   "source": [
    "# "
   ]
  },
  {
   "cell_type": "markdown",
   "id": "7778d6d2",
   "metadata": {},
   "source": [
    "# Loading and Prepaing Data"
   ]
  },
  {
   "cell_type": "code",
   "execution_count": 347,
   "id": "df475c1c",
   "metadata": {
    "scrolled": true
   },
   "outputs": [
    {
     "data": {
      "text/html": [
       "<div>\n",
       "<style scoped>\n",
       "    .dataframe tbody tr th:only-of-type {\n",
       "        vertical-align: middle;\n",
       "    }\n",
       "\n",
       "    .dataframe tbody tr th {\n",
       "        vertical-align: top;\n",
       "    }\n",
       "\n",
       "    .dataframe thead th {\n",
       "        text-align: right;\n",
       "    }\n",
       "</style>\n",
       "<table border=\"1\" class=\"dataframe\">\n",
       "  <thead>\n",
       "    <tr style=\"text-align: right;\">\n",
       "      <th></th>\n",
       "      <th>Invoice</th>\n",
       "      <th>StockCode</th>\n",
       "      <th>Description</th>\n",
       "      <th>Quantity</th>\n",
       "      <th>InvoiceDate</th>\n",
       "      <th>Price</th>\n",
       "      <th>Customer ID</th>\n",
       "      <th>Country</th>\n",
       "      <th>Total Cost</th>\n",
       "    </tr>\n",
       "  </thead>\n",
       "  <tbody>\n",
       "    <tr>\n",
       "      <th>0</th>\n",
       "      <td>489434</td>\n",
       "      <td>85048</td>\n",
       "      <td>15CM CHRISTMAS GLASS BALL 20 LIGHTS</td>\n",
       "      <td>12</td>\n",
       "      <td>12/1/2009 7:45</td>\n",
       "      <td>6.95</td>\n",
       "      <td>13085.0</td>\n",
       "      <td>United Kingdom</td>\n",
       "      <td>83.4</td>\n",
       "    </tr>\n",
       "    <tr>\n",
       "      <th>1</th>\n",
       "      <td>489434</td>\n",
       "      <td>79323P</td>\n",
       "      <td>PINK CHERRY LIGHTS</td>\n",
       "      <td>12</td>\n",
       "      <td>12/1/2009 7:45</td>\n",
       "      <td>6.75</td>\n",
       "      <td>13085.0</td>\n",
       "      <td>United Kingdom</td>\n",
       "      <td>81.0</td>\n",
       "    </tr>\n",
       "    <tr>\n",
       "      <th>2</th>\n",
       "      <td>489434</td>\n",
       "      <td>79323W</td>\n",
       "      <td>WHITE CHERRY LIGHTS</td>\n",
       "      <td>12</td>\n",
       "      <td>12/1/2009 7:45</td>\n",
       "      <td>6.75</td>\n",
       "      <td>13085.0</td>\n",
       "      <td>United Kingdom</td>\n",
       "      <td>81.0</td>\n",
       "    </tr>\n",
       "    <tr>\n",
       "      <th>3</th>\n",
       "      <td>489434</td>\n",
       "      <td>22041</td>\n",
       "      <td>RECORD FRAME 7\" SINGLE SIZE</td>\n",
       "      <td>48</td>\n",
       "      <td>12/1/2009 7:45</td>\n",
       "      <td>2.10</td>\n",
       "      <td>13085.0</td>\n",
       "      <td>United Kingdom</td>\n",
       "      <td>100.8</td>\n",
       "    </tr>\n",
       "    <tr>\n",
       "      <th>4</th>\n",
       "      <td>489434</td>\n",
       "      <td>21232</td>\n",
       "      <td>STRAWBERRY CERAMIC TRINKET BOX</td>\n",
       "      <td>24</td>\n",
       "      <td>12/1/2009 7:45</td>\n",
       "      <td>1.25</td>\n",
       "      <td>13085.0</td>\n",
       "      <td>United Kingdom</td>\n",
       "      <td>30.0</td>\n",
       "    </tr>\n",
       "  </tbody>\n",
       "</table>\n",
       "</div>"
      ],
      "text/plain": [
       "  Invoice StockCode                          Description  Quantity  \\\n",
       "0  489434     85048  15CM CHRISTMAS GLASS BALL 20 LIGHTS        12   \n",
       "1  489434    79323P                   PINK CHERRY LIGHTS        12   \n",
       "2  489434    79323W                  WHITE CHERRY LIGHTS        12   \n",
       "3  489434     22041         RECORD FRAME 7\" SINGLE SIZE         48   \n",
       "4  489434     21232       STRAWBERRY CERAMIC TRINKET BOX        24   \n",
       "\n",
       "      InvoiceDate  Price  Customer ID         Country  Total Cost  \n",
       "0  12/1/2009 7:45   6.95      13085.0  United Kingdom        83.4  \n",
       "1  12/1/2009 7:45   6.75      13085.0  United Kingdom        81.0  \n",
       "2  12/1/2009 7:45   6.75      13085.0  United Kingdom        81.0  \n",
       "3  12/1/2009 7:45   2.10      13085.0  United Kingdom       100.8  \n",
       "4  12/1/2009 7:45   1.25      13085.0  United Kingdom        30.0  "
      ]
     },
     "execution_count": 347,
     "metadata": {},
     "output_type": "execute_result"
    }
   ],
   "source": [
    "df1 = pd.read_csv('DATA/Data(2009-10).csv', encoding = 'unicode_escape')\n",
    "df2 = pd.read_csv('DATA/Data(2010-11).csv', encoding = 'unicode_escape')\n",
    "df2 = df2.drop(axis=1,labels={'Unnamed: 0'})\n",
    "df = pd.concat([df1, df2], axis=0)\n",
    "df.reset_index(inplace=True)\n",
    "df = df.drop(axis=1,labels={'index'})\n",
    "\n",
    "#Adding new column for total pricing\n",
    "df['Total Cost'] = df['Quantity'] * df['Price']\n",
    "\n",
    "#Load model\n",
    "model = load('K-means.joblib')\n",
    "\n",
    "df.head(5)"
   ]
  },
  {
   "cell_type": "markdown",
   "id": "a0d3b55c",
   "metadata": {},
   "source": [
    "# "
   ]
  },
  {
   "cell_type": "markdown",
   "id": "a712966c",
   "metadata": {},
   "source": [
    "# Dealing with Missing Values"
   ]
  },
  {
   "cell_type": "markdown",
   "id": "37b3a9e8",
   "metadata": {},
   "source": [
    "``Since Customer ID is something unique to each individual, we will be dropping them.``"
   ]
  },
  {
   "cell_type": "code",
   "execution_count": 99,
   "id": "c3104b5e",
   "metadata": {
    "scrolled": true
   },
   "outputs": [
    {
     "data": {
      "text/plain": [
       "Invoice        0.0\n",
       "StockCode      0.0\n",
       "Description    0.0\n",
       "Quantity       0.0\n",
       "InvoiceDate    0.0\n",
       "Price          0.0\n",
       "Customer ID    0.0\n",
       "Country        0.0\n",
       "Total Cost     0.0\n",
       "dtype: float64"
      ]
     },
     "execution_count": 99,
     "metadata": {},
     "output_type": "execute_result"
    }
   ],
   "source": [
    "percent_nan = 100 * (df.isnull().sum() / len(df))\n",
    "percent_nan.sort_values()"
   ]
  },
  {
   "cell_type": "code",
   "execution_count": 348,
   "id": "2a0bcde4",
   "metadata": {},
   "outputs": [],
   "source": [
    "df = df.dropna()"
   ]
  },
  {
   "cell_type": "markdown",
   "id": "86c60c1a",
   "metadata": {},
   "source": [
    "# "
   ]
  },
  {
   "cell_type": "markdown",
   "id": "9fcd1f20",
   "metadata": {},
   "source": [
    "# Dealing with Outliers"
   ]
  },
  {
   "cell_type": "markdown",
   "id": "36a9413e",
   "metadata": {},
   "source": [
    "`Outliers are those data points that are significantly different from the rest of the dataset. They are often abnormal observations that skew the data distribution, and arise due to inconsistent data entry, or erroneous observations. Here, we look at the boxplots of two most quantifiable columns and decide of a threshhold to trim down the obvious outliers. Some ways to deal with them include:`\n",
    "\n",
    "`1. Using scatterplot & boxplot, looking at obvious anomalies.\n",
    " 2. Using Z-score threshold.\n",
    " 3. IQR (Inter Quartile Range) trimming.`"
   ]
  },
  {
   "cell_type": "code",
   "execution_count": 90,
   "id": "453635c5",
   "metadata": {
    "scrolled": true
   },
   "outputs": [
    {
     "data": {
      "image/png": "[encoded data removed]",
      "text/plain": [
       "<Figure size 540x252 with 1 Axes>"
      ]
     },
     "metadata": {},
     "output_type": "display_data"
    }
   ],
   "source": [
    "plt.rcParams[\"figure.figsize\"] = [7.50, 3.50]\n",
    "plt.rcParams[\"figure.autolayout\"] = True\n",
    "\n",
    "# Pandas dataframe\n",
    "data = df[['Quantity','Price','Total Cost']]\n",
    "\n",
    "# Plot the dataframe\n",
    "ax = data[['Quantity', 'Price', 'Total Cost']].plot(kind='box', title='boxplot')\n",
    "\n",
    "# Display the plot\n",
    "plt.show()"
   ]
  },
  {
   "cell_type": "code",
   "execution_count": 349,
   "id": "32d4b94a",
   "metadata": {},
   "outputs": [],
   "source": [
    "df = df[(df['Quantity'] <= 17500) & (df['Quantity'] >= -7700)]\n",
    "df = df[df['Price'] < 10500]\n",
    "df = df[(df['Total Cost'] <= 15000) & (df['Total Cost'] >= -10000)]\n",
    "\n",
    "X = df.drop(labels = {'Invoice','Description','InvoiceDate','StockCode'},axis=1)\n",
    "X = pd.get_dummies(X)\n",
    "\n",
    "#Scaling the data for future usage\n",
    "from sklearn.cluster import KMeans\n",
    "from sklearn.preprocessing import StandardScaler\n",
    "scaler = StandardScaler()\n",
    "scaled_X = scaler.fit_transform(X)"
   ]
  },
  {
   "cell_type": "markdown",
   "id": "b18b3404",
   "metadata": {},
   "source": [
    "# "
   ]
  },
  {
   "cell_type": "markdown",
   "id": "84624ca0",
   "metadata": {},
   "source": [
    "# Questions"
   ]
  },
  {
   "cell_type": "markdown",
   "id": "81a1fe3a",
   "metadata": {},
   "source": [
    "## Q1 Can customers be segmented into different categories? If yes then perform analysis on the same and also propose categories. If no, then explain why?"
   ]
  },
  {
   "cell_type": "markdown",
   "id": "8d0a39c2",
   "metadata": {},
   "source": [
    "## ``Answer:`` There are 5940 unique customer IDs from 2009 to 2011. Hence, we will be using a K-means clustering algorithm to form clusters of customer categories and then try defining them manually, in detail using patterns. We found 4 category of customers doing this- \n",
    "\n",
    "### `1. Category - A` \n",
    "* Region Covered: UK (0.741 million buyers alone)\n",
    "* Cheap Products\n",
    "* Lesser Quantities\n",
    "\n",
    "### `2. Category - B` \n",
    "* Region Covered: German buyers (17,624)\n",
    "* Cheaper Products bought\n",
    "* High product return rate, lesser loyalty\n",
    "\n",
    "### `3. Category - C`\n",
    "* Region Covered: United Arab Emirates  \n",
    "* Least Percent Returns\n",
    "* Intermediate Quantities\n",
    "* Cheaper Products\n",
    "\n",
    "### `4. Category - D` \n",
    "* Region Covered: Almost entire Europe (65,067 buyers)\n",
    "* Most Loyal Customers with 18.95% orders from the same buyers\n",
    "* Intermediate Purchases\n",
    "* High Quantity Orders"
   ]
  },
  {
   "cell_type": "markdown",
   "id": "017d2f6e",
   "metadata": {},
   "source": [
    "### `Please refer to this link to access my notebook containing K-means algorithm build, technical reasonings, and more!`\n",
    "\n",
    "* [K-means Notebook](https://www.itl.nist.gov/div898/handbook/prc/section1/prc16.htm)"
   ]
  },
  {
   "cell_type": "markdown",
   "id": "be1d2278",
   "metadata": {},
   "source": [
    "# "
   ]
  },
  {
   "cell_type": "markdown",
   "id": "763a0e3a",
   "metadata": {},
   "source": [
    "### Implementing Model for Validation"
   ]
  },
  {
   "cell_type": "code",
   "execution_count": 5,
   "id": "f7c6bc19",
   "metadata": {},
   "outputs": [],
   "source": [
    "loaded_model = load('C:/Users/Dr Juned bhai/Desktop/IMPORTANTS/PROJECTS/KIRANA/Section 1/Models/K-means2.joblib')\n",
    "cluster_labels = loaded_model.fit_predict(scaled_X)\n",
    "df['Cluster'] = cluster_labels"
   ]
  },
  {
   "cell_type": "code",
   "execution_count": 145,
   "id": "cdf5175d",
   "metadata": {},
   "outputs": [
    {
     "name": "stdout",
     "output_type": "stream",
     "text": [
      "Length of A is - 741271\n",
      "Length of B is - 17624\n",
      "Length of C is - 386\n",
      "Length of D is - 65067\n"
     ]
    }
   ],
   "source": [
    "A = df[df['Cluster'] == 0]\n",
    "B = df[df['Cluster'] == 1]\n",
    "C = df[df['Cluster'] == 2]\n",
    "D = df[df['Cluster'] == 3]\n",
    "\n",
    "print('Length of A is - {}'.format(len(A)))\n",
    "print('Length of B is - {}'.format(len(B)))\n",
    "print('Length of C is - {}'.format(len(C)))\n",
    "print('Length of D is - {}'.format(len(D)))"
   ]
  },
  {
   "cell_type": "markdown",
   "id": "15ace620",
   "metadata": {},
   "source": [
    "# "
   ]
  },
  {
   "cell_type": "markdown",
   "id": "13219a53",
   "metadata": {},
   "source": [
    "## Conclusion-1\n",
    "### The difference between each of the Customer Categories as found from our algorithmic model. As we can see, Cluster-0 or Category-A is proportionally more in number then the rest. Hence, stating that UK is in fact a potentially critical market in this dataset"
   ]
  },
  {
   "cell_type": "code",
   "execution_count": 71,
   "id": "486ff62d",
   "metadata": {
    "scrolled": true
   },
   "outputs": [
    {
     "data": {
      "text/plain": [
       "<AxesSubplot:ylabel='Count'>"
      ]
     },
     "execution_count": 71,
     "metadata": {},
     "output_type": "execute_result"
    },
    {
     "data": {
      "image/png": "[encoded data removed]",
      "text/plain": [
       "<Figure size 432x288 with 1 Axes>"
      ]
     },
     "metadata": {
      "needs_background": "light"
     },
     "output_type": "display_data"
    }
   ],
   "source": [
    "sns.histplot(data=df.tail(800000), x = df[\"Quantity\"].mean(), hue='Cluster')"
   ]
  },
  {
   "cell_type": "markdown",
   "id": "57ca7163",
   "metadata": {},
   "source": [
    "# "
   ]
  },
  {
   "cell_type": "markdown",
   "id": "98912ff4",
   "metadata": {},
   "source": [
    "## Conclusion-2\n",
    "### Here, we can see the difference between the 'mean' of Price per item in a purchase between different categories of A, B, C, D. Stating that even though 'A' has 0.7+ million orders, their average price per order is still low. Inversely similar conclusion can be made for D, who has 10 times lesser orders than A but double the average price per order."
   ]
  },
  {
   "cell_type": "code",
   "execution_count": 157,
   "id": "8de562e1",
   "metadata": {
    "scrolled": true
   },
   "outputs": [
    {
     "data": {
      "image/png": "[encoded data removed]",
      "text/plain": [
       "<Figure size 432x288 with 1 Axes>"
      ]
     },
     "metadata": {},
     "output_type": "display_data"
    }
   ],
   "source": [
    "sns.set(style=\"darkgrid\")\n",
    "\n",
    "sns.histplot(data=A.head(100), x = A[\"Price\"].mean(), color=\"orange\", hue='Cluster', label='A', palette = 'flare')\n",
    "sns.histplot(data=B.head(100), x = B[\"Price\"].mean(), color=\"skyblue\", hue='Cluster', label='B', palette = 'Set3')\n",
    "sns.histplot(data=C.head(100), x = C[\"Price\"].mean(), color=\"orange\", hue='Cluster', label='C', palette = 'pastel')\n",
    "sns.histplot(data=D.head(100), x = D[\"Price\"].mean(), color=\"red\", hue='Cluster', label='D', palette = 'flare')\n",
    "\n",
    "plt.legend() \n",
    "plt.show()"
   ]
  },
  {
   "cell_type": "markdown",
   "id": "dfda3637",
   "metadata": {},
   "source": [
    "# "
   ]
  },
  {
   "cell_type": "markdown",
   "id": "c7c1fdfd",
   "metadata": {},
   "source": [
    "## Conclusion-3\n",
    "### Below graph shows the difference in the mean quantity per order between the four customer categories. Here, like earlier, Category-A is ranked last and D is ranked first with a 3x difference in value. This, not only makes Category-D the most efficient, but also their customer base the most loyal."
   ]
  },
  {
   "cell_type": "code",
   "execution_count": 158,
   "id": "4202e96d",
   "metadata": {},
   "outputs": [
    {
     "data": {
      "image/png": "[encoded data removed]",
      "text/plain": [
       "<Figure size 432x288 with 1 Axes>"
      ]
     },
     "metadata": {},
     "output_type": "display_data"
    }
   ],
   "source": [
    "sns.set(style=\"darkgrid\")\n",
    "\n",
    "sns.histplot(data=A.head(100), x = A[\"Quantity\"].mean(), color=\"orange\", hue='Cluster', label='A', palette = 'flare')\n",
    "sns.histplot(data=B.head(100), x = B[\"Quantity\"].mean(), color=\"skyblue\", hue='Cluster', label='B', palette = 'Set3')\n",
    "sns.histplot(data=C.head(100), x = C[\"Quantity\"].mean(), color=\"orange\", hue='Cluster', label='C', palette = 'pastel')\n",
    "sns.histplot(data=D.head(100), x = D[\"Quantity\"].mean(), color=\"red\", hue='Cluster', label='D', palette = 'flare')\n",
    "\n",
    "plt.legend() \n",
    "plt.show()"
   ]
  },
  {
   "cell_type": "markdown",
   "id": "ad89bdab",
   "metadata": {},
   "source": [
    "# "
   ]
  },
  {
   "cell_type": "markdown",
   "id": "f1616a05",
   "metadata": {},
   "source": [
    "## Conclusion-4\n",
    "### Below graph visualizes the linear relationship between Total Cost & Quantity of orders with the Categorical cluster regions as explaiend earlier. This can be used as a proof of our earlier hypothesis."
   ]
  },
  {
   "cell_type": "code",
   "execution_count": 161,
   "id": "b186b868",
   "metadata": {
    "scrolled": false
   },
   "outputs": [
    {
     "data": {
      "text/plain": [
       "<AxesSubplot:xlabel='Quantity', ylabel='Total Cost'>"
      ]
     },
     "execution_count": 161,
     "metadata": {},
     "output_type": "execute_result"
    },
    {
     "data": {
      "image/png": "[encoded data removed]",
      "text/plain": [
       "<Figure size 432x288 with 1 Axes>"
      ]
     },
     "metadata": {},
     "output_type": "display_data"
    }
   ],
   "source": [
    "sns.scatterplot(data=df.tail(800000), x = df[\"Quantity\"], y=df[\"Total Cost\"], color=\"gold\", hue='Cluster', alpha=0.3)"
   ]
  },
  {
   "cell_type": "markdown",
   "id": "0257208b",
   "metadata": {},
   "source": [
    "# "
   ]
  },
  {
   "cell_type": "markdown",
   "id": "76a8df76",
   "metadata": {},
   "source": [
    "## Conclusion-5\n",
    "### Here, we can see how United Kingdom dominates the other Categories with its high amount of orders."
   ]
  },
  {
   "cell_type": "code",
   "execution_count": 65,
   "id": "7456d3f2",
   "metadata": {},
   "outputs": [
    {
     "data": {
      "text/plain": [
       "<AxesSubplot:xlabel='Cluster', ylabel='Count'>"
      ]
     },
     "execution_count": 65,
     "metadata": {},
     "output_type": "execute_result"
    },
    {
     "data": {
      "image/png": "[encoded data removed]",
      "text/plain": [
       "<Figure size 432x288 with 1 Axes>"
      ]
     },
     "metadata": {
      "needs_background": "light"
     },
     "output_type": "display_data"
    }
   ],
   "source": [
    "sns.histplot(data=df.tail(3000), x = df[\"Cluster\"], color=\"teal\", hue='Country')"
   ]
  },
  {
   "cell_type": "markdown",
   "id": "d4f37bdd",
   "metadata": {},
   "source": [
    "# "
   ]
  },
  {
   "cell_type": "markdown",
   "id": "419780b6",
   "metadata": {},
   "source": [
    "# "
   ]
  },
  {
   "cell_type": "markdown",
   "id": "7da07cab",
   "metadata": {},
   "source": [
    "## Q2 How would you define a loyal customer?\n",
    "## ``Answer:`` Customer loyalty is a measure of a customer's likeliness to do repeat business with a company or brand, no matter how big or small their order or contribution to the company's revenue. Hence, it can be measured using a simple metric such as:\n",
    "\n",
    "`Loyalty = (No. of Unique Orders) / (No. of Unique Returns)`"
   ]
  },
  {
   "cell_type": "markdown",
   "id": "076028b1",
   "metadata": {},
   "source": [
    "### Example: \n"
   ]
  },
  {
   "cell_type": "code",
   "execution_count": 431,
   "id": "473d640a",
   "metadata": {
    "scrolled": true
   },
   "outputs": [],
   "source": [
    "def loyalty(customer_id):\n",
    "    orders = len(df[(df['Customer ID'] == customer_id) & (df['Quantity'] > 0)])\n",
    "    returns = len(df[(df['Customer ID'] == customer_id) & (df['Quantity'] < 0)])\n",
    "    Loyalty = orders/returns\n",
    "    return Loyalty"
   ]
  },
  {
   "cell_type": "code",
   "execution_count": 432,
   "id": "877558b8",
   "metadata": {
    "scrolled": true
   },
   "outputs": [
    {
     "data": {
      "text/plain": [
       "10.5"
      ]
     },
     "execution_count": 432,
     "metadata": {},
     "output_type": "execute_result"
    }
   ],
   "source": [
    "loyalty(13085)"
   ]
  },
  {
   "cell_type": "markdown",
   "id": "841b4a5c",
   "metadata": {},
   "source": [
    "# "
   ]
  },
  {
   "cell_type": "markdown",
   "id": "d9ebdc40",
   "metadata": {},
   "source": [
    "# "
   ]
  },
  {
   "cell_type": "markdown",
   "id": "1cf11a9a",
   "metadata": {},
   "source": [
    "## Q3 What is the most popular time of year based on this sales data?\n",
    "### ``Answer:`` According to our output below, the most popular time for sales is between October to December (Q4) but data shows the concentration to be around December 2010. This conclusion makes sense since a lot of products in the dataset are popular with Christmas (X-mas) theme."
   ]
  },
  {
   "cell_type": "code",
   "execution_count": 355,
   "id": "46a1ba8f",
   "metadata": {
    "scrolled": true
   },
   "outputs": [
    {
     "data": {
      "text/plain": [
       "2010-12-05    5448\n",
       "2010-12-02    4086\n",
       "2010-12-08    4042\n",
       "2010-12-06    3948\n",
       "2010-12-01    3936\n",
       "              ... \n",
       "2009-12-23     350\n",
       "2009-12-22     343\n",
       "2010-01-06     293\n",
       "2011-02-06     279\n",
       "2010-12-22     221\n",
       "Name: Date, Length: 604, dtype: int64"
      ]
     },
     "execution_count": 355,
     "metadata": {},
     "output_type": "execute_result"
    }
   ],
   "source": [
    "DF = df\n",
    "DF[['Date','Time']] = DF['InvoiceDate'].str.split(' ', 1, expand=True)\n",
    "DF['Date']= pd.to_datetime(DF['Date'])\n",
    "\n",
    "DF['Date'].value_counts(ascending=False)"
   ]
  },
  {
   "cell_type": "markdown",
   "id": "839eee08",
   "metadata": {},
   "source": [
    "# "
   ]
  },
  {
   "cell_type": "markdown",
   "id": "fad7bc30",
   "metadata": {},
   "source": [
    "# "
   ]
  },
  {
   "cell_type": "markdown",
   "id": "de309e7e",
   "metadata": {},
   "source": [
    "## Q4 Is there any seasonality in data? Explain with supportive evidence.\n",
    "### ``Answer:`` The below graph findings clearly indicate seasonality around Cluster-3 or Category-D of our buyers, i.e. Europeans. Number of orders hiked in the months of January, April, July, & October in the year 2010.\n",
    "`"
   ]
  },
  {
   "cell_type": "code",
   "execution_count": 254,
   "id": "690e7c6b",
   "metadata": {},
   "outputs": [
    {
     "data": {
      "text/plain": [
       "<AxesSubplot:xlabel='Date', ylabel='Quantity'>"
      ]
     },
     "execution_count": 254,
     "metadata": {},
     "output_type": "execute_result"
    },
    {
     "name": "stderr",
     "output_type": "stream",
     "text": [
      "C:\\Users\\Dr Juned bhai\\Conda\\lib\\site-packages\\IPython\\core\\pylabtools.py:151: UserWarning: Creating legend with loc=\"best\" can be slow with large amounts of data.\n",
      "  fig.canvas.print_figure(bytes_io, **kw)\n"
     ]
    },
    {
     "data": {
      "image/png": "[encoded data removed]",
      "text/plain": [
       "<Figure size 432x288 with 1 Axes>"
      ]
     },
     "metadata": {},
     "output_type": "display_data"
    }
   ],
   "source": [
    "sns.scatterplot(data=DF.head(1000), x=DF['Date'], y=DF['Quantity'], hue=DF['Cluster'])"
   ]
  },
  {
   "cell_type": "markdown",
   "id": "5189f6c3",
   "metadata": {},
   "source": [
    "# "
   ]
  },
  {
   "cell_type": "markdown",
   "id": "5e395163",
   "metadata": {},
   "source": [
    "## Q5 Discuss customer's lifetime with respect to the given dataset.\n",
    "## ``Answer:`` Here, we are making an assumption that customer's lifetime indicates the Customer Lifetime Value to us. Customer Lifetime Value is a monetary value that represents the amount of revenue or profit a customer will give the company over the period of the relationship. CLTV demonstrates the implications of acquiring long-term customers compare to short-term customers. Customer lifetime value (CLV) can help you to answers the most important questions about sales to every company:\n",
    "\n",
    "* How to Identify the most profitable customers?\n",
    "* How can a company offer the best product and make the most money?\n",
    "* How to segment profitable customers?\n",
    "* How much budget need to spend to acquire customers?\n",
    "\n",
    "## `Customer Lifetime Value (CLV) = Average Order Value * Purchase Frequency`"
   ]
  },
  {
   "cell_type": "code",
   "execution_count": 338,
   "id": "158f3df1",
   "metadata": {},
   "outputs": [],
   "source": [
    "DF = df\n",
    "DF = DF[['Customer ID','Total Cost']]\n",
    "s = DF['Customer ID'].value_counts()\n",
    "\n",
    "DF1 = pd.DataFrame(s.keys(), columns=['Customer ID'])\n",
    "DF2 = pd.DataFrame(s.values, columns=['Count'])\n",
    "\n",
    "DF3 = pd.merge(DF1, DF2, left_index=True, right_index=True)\n",
    "DF4 = DF.groupby('Customer ID', as_index=False)['Total Cost'].mean()\n",
    "DF5 = pd.merge(DF3, DF4, on='Customer ID')\n",
    "\n",
    "DF5['CLV'] = DF5['Total Cost'] * DF5['Count']"
   ]
  },
  {
   "cell_type": "code",
   "execution_count": 342,
   "id": "5c975373",
   "metadata": {
    "scrolled": true
   },
   "outputs": [
    {
     "data": {
      "text/html": [
       "<div>\n",
       "<style scoped>\n",
       "    .dataframe tbody tr th:only-of-type {\n",
       "        vertical-align: middle;\n",
       "    }\n",
       "\n",
       "    .dataframe tbody tr th {\n",
       "        vertical-align: top;\n",
       "    }\n",
       "\n",
       "    .dataframe thead th {\n",
       "        text-align: right;\n",
       "    }\n",
       "</style>\n",
       "<table border=\"1\" class=\"dataframe\">\n",
       "  <thead>\n",
       "    <tr style=\"text-align: right;\">\n",
       "      <th></th>\n",
       "      <th>Customer ID</th>\n",
       "      <th>Count</th>\n",
       "      <th>Total Cost</th>\n",
       "      <th>CLV</th>\n",
       "    </tr>\n",
       "  </thead>\n",
       "  <tbody>\n",
       "    <tr>\n",
       "      <th>0</th>\n",
       "      <td>17841.0</td>\n",
       "      <td>13097</td>\n",
       "      <td>5.307795</td>\n",
       "      <td>69516.19</td>\n",
       "    </tr>\n",
       "    <tr>\n",
       "      <th>1</th>\n",
       "      <td>14911.0</td>\n",
       "      <td>11613</td>\n",
       "      <td>23.271207</td>\n",
       "      <td>270248.53</td>\n",
       "    </tr>\n",
       "    <tr>\n",
       "      <th>2</th>\n",
       "      <td>12748.0</td>\n",
       "      <td>7307</td>\n",
       "      <td>6.838666</td>\n",
       "      <td>49970.13</td>\n",
       "    </tr>\n",
       "    <tr>\n",
       "      <th>3</th>\n",
       "      <td>14606.0</td>\n",
       "      <td>6709</td>\n",
       "      <td>4.485673</td>\n",
       "      <td>30094.38</td>\n",
       "    </tr>\n",
       "    <tr>\n",
       "      <th>4</th>\n",
       "      <td>14096.0</td>\n",
       "      <td>5128</td>\n",
       "      <td>11.139023</td>\n",
       "      <td>57120.91</td>\n",
       "    </tr>\n",
       "  </tbody>\n",
       "</table>\n",
       "</div>"
      ],
      "text/plain": [
       "   Customer ID  Count  Total Cost        CLV\n",
       "0      17841.0  13097    5.307795   69516.19\n",
       "1      14911.0  11613   23.271207  270248.53\n",
       "2      12748.0   7307    6.838666   49970.13\n",
       "3      14606.0   6709    4.485673   30094.38\n",
       "4      14096.0   5128   11.139023   57120.91"
      ]
     },
     "execution_count": 342,
     "metadata": {},
     "output_type": "execute_result"
    }
   ],
   "source": [
    "DF5.head(5)"
   ]
  },
  {
   "cell_type": "markdown",
   "id": "3fbb3bf1",
   "metadata": {},
   "source": [
    "# "
   ]
  },
  {
   "cell_type": "markdown",
   "id": "ae497fb2",
   "metadata": {},
   "source": [
    "`Apart from solving the given 5 questions, I've also tried to give a broader analysis about some specific observations from the data. I hope the readers of my report will find them useful, insightful, and to the point. I will be looking forward to the results of this assignment!`\n",
    "\n",
    "# Thank you for your time!"
   ]
  }
 ],
 "metadata": {
  "kernelspec": {
   "display_name": "Python 3 (ipykernel)",
   "language": "python",
   "name": "python3"
  },
  "language_info": {
   "codemirror_mode": {
    "name": "ipython",
    "version": 3
   },
   "file_extension": ".py",
   "mimetype": "text/x-python",
   "name": "python",
   "nbconvert_exporter": "python",
   "pygments_lexer": "ipython3",
   "version": "3.9.12"
  }
 },
 "nbformat": 4,
 "nbformat_minor": 5
}
