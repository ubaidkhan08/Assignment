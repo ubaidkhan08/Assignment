{
 "cells": [
  {
   "cell_type": "markdown",
   "id": "a76ee6a2",
   "metadata": {},
   "source": [
    "# "
   ]
  },
  {
   "cell_type": "markdown",
   "id": "fd79b792",
   "metadata": {},
   "source": [
    "# Importing Required Libraries"
   ]
  },
  {
   "cell_type": "code",
   "execution_count": 1,
   "id": "b15cc5ae",
   "metadata": {},
   "outputs": [],
   "source": [
    "import numpy as np\n",
    "import pandas as pd \n",
    "import matplotlib.pyplot as plt\n",
    "from joblib import dump, load\n",
    "import seaborn as sns\n",
    "import os"
   ]
  },
  {
   "cell_type": "markdown",
   "id": "a57328fb",
   "metadata": {},
   "source": [
    "# "
   ]
  },
  {
   "cell_type": "markdown",
   "id": "a2e7657c",
   "metadata": {},
   "source": [
    "# Preparing Data"
   ]
  },
  {
   "cell_type": "code",
   "execution_count": 2,
   "id": "a4659576",
   "metadata": {
    "scrolled": false
   },
   "outputs": [
    {
     "data": {
      "text/html": [
       "<div>\n",
       "<style scoped>\n",
       "    .dataframe tbody tr th:only-of-type {\n",
       "        vertical-align: middle;\n",
       "    }\n",
       "\n",
       "    .dataframe tbody tr th {\n",
       "        vertical-align: top;\n",
       "    }\n",
       "\n",
       "    .dataframe thead th {\n",
       "        text-align: right;\n",
       "    }\n",
       "</style>\n",
       "<table border=\"1\" class=\"dataframe\">\n",
       "  <thead>\n",
       "    <tr style=\"text-align: right;\">\n",
       "      <th></th>\n",
       "      <th>Invoice</th>\n",
       "      <th>StockCode</th>\n",
       "      <th>Description</th>\n",
       "      <th>Quantity</th>\n",
       "      <th>InvoiceDate</th>\n",
       "      <th>Price</th>\n",
       "      <th>Customer ID</th>\n",
       "      <th>Country</th>\n",
       "      <th>Total Cost</th>\n",
       "    </tr>\n",
       "  </thead>\n",
       "  <tbody>\n",
       "    <tr>\n",
       "      <th>0</th>\n",
       "      <td>489434</td>\n",
       "      <td>85048</td>\n",
       "      <td>15CM CHRISTMAS GLASS BALL 20 LIGHTS</td>\n",
       "      <td>12</td>\n",
       "      <td>12/1/2009 7:45</td>\n",
       "      <td>6.95</td>\n",
       "      <td>13085.0</td>\n",
       "      <td>United Kingdom</td>\n",
       "      <td>83.4</td>\n",
       "    </tr>\n",
       "    <tr>\n",
       "      <th>1</th>\n",
       "      <td>489434</td>\n",
       "      <td>79323P</td>\n",
       "      <td>PINK CHERRY LIGHTS</td>\n",
       "      <td>12</td>\n",
       "      <td>12/1/2009 7:45</td>\n",
       "      <td>6.75</td>\n",
       "      <td>13085.0</td>\n",
       "      <td>United Kingdom</td>\n",
       "      <td>81.0</td>\n",
       "    </tr>\n",
       "    <tr>\n",
       "      <th>2</th>\n",
       "      <td>489434</td>\n",
       "      <td>79323W</td>\n",
       "      <td>WHITE CHERRY LIGHTS</td>\n",
       "      <td>12</td>\n",
       "      <td>12/1/2009 7:45</td>\n",
       "      <td>6.75</td>\n",
       "      <td>13085.0</td>\n",
       "      <td>United Kingdom</td>\n",
       "      <td>81.0</td>\n",
       "    </tr>\n",
       "    <tr>\n",
       "      <th>3</th>\n",
       "      <td>489434</td>\n",
       "      <td>22041</td>\n",
       "      <td>RECORD FRAME 7\" SINGLE SIZE</td>\n",
       "      <td>48</td>\n",
       "      <td>12/1/2009 7:45</td>\n",
       "      <td>2.10</td>\n",
       "      <td>13085.0</td>\n",
       "      <td>United Kingdom</td>\n",
       "      <td>100.8</td>\n",
       "    </tr>\n",
       "    <tr>\n",
       "      <th>4</th>\n",
       "      <td>489434</td>\n",
       "      <td>21232</td>\n",
       "      <td>STRAWBERRY CERAMIC TRINKET BOX</td>\n",
       "      <td>24</td>\n",
       "      <td>12/1/2009 7:45</td>\n",
       "      <td>1.25</td>\n",
       "      <td>13085.0</td>\n",
       "      <td>United Kingdom</td>\n",
       "      <td>30.0</td>\n",
       "    </tr>\n",
       "  </tbody>\n",
       "</table>\n",
       "</div>"
      ],
      "text/plain": [
       "  Invoice StockCode                          Description  Quantity  \\\n",
       "0  489434     85048  15CM CHRISTMAS GLASS BALL 20 LIGHTS        12   \n",
       "1  489434    79323P                   PINK CHERRY LIGHTS        12   \n",
       "2  489434    79323W                  WHITE CHERRY LIGHTS        12   \n",
       "3  489434     22041         RECORD FRAME 7\" SINGLE SIZE         48   \n",
       "4  489434     21232       STRAWBERRY CERAMIC TRINKET BOX        24   \n",
       "\n",
       "      InvoiceDate  Price  Customer ID         Country  Total Cost  \n",
       "0  12/1/2009 7:45   6.95      13085.0  United Kingdom        83.4  \n",
       "1  12/1/2009 7:45   6.75      13085.0  United Kingdom        81.0  \n",
       "2  12/1/2009 7:45   6.75      13085.0  United Kingdom        81.0  \n",
       "3  12/1/2009 7:45   2.10      13085.0  United Kingdom       100.8  \n",
       "4  12/1/2009 7:45   1.25      13085.0  United Kingdom        30.0  "
      ]
     },
     "execution_count": 2,
     "metadata": {},
     "output_type": "execute_result"
    }
   ],
   "source": [
    "#Reading the data\n",
    "df1 = pd.read_csv('C:/Users/Dr Juned bhai/Desktop/IMPORTANTS/PROJECTS/KIRANA/Section 1/DATA/Data(2009-10).csv', encoding = 'unicode_escape')\n",
    "df2 = pd.read_csv('C:/Users/Dr Juned bhai/Desktop/IMPORTANTS/PROJECTS/KIRANA/Section 1/DATA/Data(2010-11).csv', encoding = 'unicode_escape')\n",
    "df2 = df2.drop(axis=1,labels={'Unnamed: 0'})\n",
    "\n",
    "#Merging two DataFrames\n",
    "df = pd.concat([df1, df2], axis=0)\n",
    "df.reset_index()\n",
    "\n",
    "#Adding new column for total pricing\n",
    "df['Total Cost'] = df['Quantity'] * df['Price']\n",
    "\n",
    "#Dropping NAN values & outliers\n",
    "df = df.dropna()\n",
    "df = df[(df['Quantity'] <= 10000) & (df['Quantity'] >= -10000)]\n",
    "df = df[df['Price'] < 20000]\n",
    "\n",
    "X = df.drop(labels = {'Invoice','Description','InvoiceDate','StockCode'},axis=1)\n",
    "X = pd.get_dummies(X)\n",
    "\n",
    "from sklearn.cluster import KMeans\n",
    "from sklearn.preprocessing import StandardScaler\n",
    "scaler = StandardScaler()\n",
    "scaled_X = scaler.fit_transform(X)\n",
    "\n",
    "df.head(5)"
   ]
  },
  {
   "cell_type": "markdown",
   "id": "2675b829",
   "metadata": {},
   "source": [
    "# "
   ]
  },
  {
   "cell_type": "markdown",
   "id": "6963e115",
   "metadata": {},
   "source": [
    "# Choosing the optimal value of K"
   ]
  },
  {
   "cell_type": "markdown",
   "id": "1ffd4105",
   "metadata": {},
   "source": [
    "`Hence, from the below conclusion, we finalize the value of K = 4 (using the elbow method). As the value of K increases, there will be fewer elements in the cluster. So average distortion will decrease. The lesser number of elements means closer to the centroid. So, the point where this distortion declines the most is the elbow point.`"
   ]
  },
  {
   "cell_type": "code",
   "execution_count": 9,
   "id": "c17d174b",
   "metadata": {},
   "outputs": [],
   "source": [
    "ssd = []\n",
    "    \n",
    "for k in range(2,13):\n",
    "    \n",
    "    model = KMeans(n_clusters=k)    \n",
    "    model.fit(scaled_X)\n",
    "    \n",
    "    #Sum of squared distances of samples to their closest cluster center.\n",
    "    ssd.append(model.inertia_)"
   ]
  },
  {
   "cell_type": "markdown",
   "id": "f30bc86b",
   "metadata": {},
   "source": [
    "# "
   ]
  },
  {
   "cell_type": "markdown",
   "id": "9233fea1",
   "metadata": {},
   "source": [
    "## Elbow method from K = 2 to 13 (Sum of Squared Distances)"
   ]
  },
  {
   "cell_type": "code",
   "execution_count": 13,
   "id": "27311dcf",
   "metadata": {},
   "outputs": [
    {
     "data": {
      "text/plain": [
       "Text(0, 0.5, ' Sum of Squared Distances')"
      ]
     },
     "execution_count": 13,
     "metadata": {},
     "output_type": "execute_result"
    },
    {
     "data": {
      "image/png": "[encoded data removed]",
      "text/plain": [
       "<Figure size 432x288 with 1 Axes>"
      ]
     },
     "metadata": {
      "needs_background": "light"
     },
     "output_type": "display_data"
    }
   ],
   "source": [
    "plt.plot(range(2,13),ssd,'o--')\n",
    "plt.xlabel(\"K Value\")\n",
    "plt.ylabel(\" Sum of Squared Distances\")"
   ]
  },
  {
   "cell_type": "markdown",
   "id": "9f3ead82",
   "metadata": {},
   "source": [
    "# "
   ]
  },
  {
   "cell_type": "markdown",
   "id": "a9046d66",
   "metadata": {},
   "source": [
    "# Finalizing Model \n",
    "`Using the elbow method, we finalize K = 4`"
   ]
  },
  {
   "cell_type": "code",
   "execution_count": 4,
   "id": "07b70f11",
   "metadata": {},
   "outputs": [
    {
     "data": {
      "text/plain": [
       "['K-means2.joblib']"
      ]
     },
     "execution_count": 4,
     "metadata": {},
     "output_type": "execute_result"
    }
   ],
   "source": [
    "model = KMeans(n_clusters=4)\n",
    "cluster_labels = model.fit_predict(scaled_X)\n",
    "X['Cluster'] = cluster_labels\n",
    "#dump(model, 'K-means2.joblib') "
   ]
  },
  {
   "cell_type": "code",
   "execution_count": 27,
   "id": "8cb33e8c",
   "metadata": {
    "scrolled": true
   },
   "outputs": [
    {
     "data": {
      "text/plain": [
       "<AxesSubplot:xlabel='Cluster', ylabel='Price'>"
      ]
     },
     "execution_count": 27,
     "metadata": {},
     "output_type": "execute_result"
    },
    {
     "data": {
      "image/png": "[encoded data removed]",
      "text/plain": [
       "<Figure size 432x288 with 1 Axes>"
      ]
     },
     "metadata": {
      "needs_background": "light"
     },
     "output_type": "display_data"
    }
   ],
   "source": [
    "sns.scatterplot(data=X, x='Cluster', y='Price')"
   ]
  },
  {
   "cell_type": "markdown",
   "id": "e54e5332",
   "metadata": {},
   "source": [
    "# `The five obvious clusters in our dataset, found using the model`"
   ]
  },
  {
   "cell_type": "markdown",
   "id": "6486f259",
   "metadata": {},
   "source": [
    "# "
   ]
  }
 ],
 "metadata": {
  "kernelspec": {
   "display_name": "Python 3 (ipykernel)",
   "language": "python",
   "name": "python3"
  },
  "language_info": {
   "codemirror_mode": {
    "name": "ipython",
    "version": 3
   },
   "file_extension": ".py",
   "mimetype": "text/x-python",
   "name": "python",
   "nbconvert_exporter": "python",
   "pygments_lexer": "ipython3",
   "version": "3.9.12"
  }
 },
 "nbformat": 4,
 "nbformat_minor": 5
}
